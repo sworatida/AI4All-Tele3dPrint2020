{
 "metadata": {
  "language_info": {
   "codemirror_mode": {
    "name": "ipython",
    "version": 3
   },
   "file_extension": ".py",
   "mimetype": "text/x-python",
   "name": "python",
   "nbconvert_exporter": "python",
   "pygments_lexer": "ipython3",
   "version": "3.7.6-final"
  },
  "orig_nbformat": 2,
  "kernelspec": {
   "name": "Python 3.7.6 64-bit ('base': conda)",
   "display_name": "Python 3.7.6 64-bit ('base': conda)",
   "metadata": {
    "interpreter": {
     "hash": "243b6dbaff167d848d73268f91efdd3911e096cba10bea65ee481b67c143c90e"
    }
   }
  }
 },
 "nbformat": 4,
 "nbformat_minor": 2,
 "cells": [
  {
   "cell_type": "code",
   "execution_count": 1,
   "metadata": {},
   "outputs": [],
   "source": [
    "import requests"
   ]
  },
  {
   "cell_type": "code",
   "execution_count": 5,
   "metadata": {},
   "outputs": [
    {
     "output_type": "execute_result",
     "data": {
      "text/plain": [
       "<Response [200]>"
      ]
     },
     "metadata": {},
     "execution_count": 5
    }
   ],
   "source": [
    "response = requests.get('http://tele3dprinting.com/2019/process.php?api=list')\n",
    "response"
   ]
  },
  {
   "cell_type": "code",
   "execution_count": 6,
   "metadata": {},
   "outputs": [
    {
     "output_type": "execute_result",
     "data": {
      "text/plain": [
       "b\"<ol><li><a id=230 href='process.php?api=stl.read&file_id=230'>230#2020-10-14 16-09-58 (2) (Cube_test.stl).0.stl</a></li></ol>\""
      ]
     },
     "metadata": {},
     "execution_count": 6
    }
   ],
   "source": [
    "response.content"
   ]
  },
  {
   "cell_type": "code",
   "execution_count": 7,
   "metadata": {},
   "outputs": [],
   "source": [
    "from bs4 import BeautifulSoup"
   ]
  },
  {
   "cell_type": "code",
   "execution_count": 22,
   "metadata": {},
   "outputs": [
    {
     "output_type": "execute_result",
     "data": {
      "text/plain": [
       "[<a href=\"process.php?api=stl.read&amp;file_id=230\" id=\"230\">230#2020-10-14 16-09-58 (2) (Cube_test.stl).0.stl</a>]"
      ]
     },
     "metadata": {},
     "execution_count": 22
    }
   ],
   "source": [
    " soup = BeautifulSoup(response.content)\n",
    " data = soup.find_all('a')\n",
    " data"
   ]
  },
  {
   "cell_type": "code",
   "execution_count": 25,
   "metadata": {},
   "outputs": [
    {
     "output_type": "execute_result",
     "data": {
      "text/plain": [
       "'230#2020-10-14 16-09-58 (2) (Cube_test.stl).0.stl'"
      ]
     },
     "metadata": {},
     "execution_count": 25
    }
   ],
   "source": [
    "data[0].text"
   ]
  },
  {
   "cell_type": "code",
   "execution_count": 44,
   "metadata": {},
   "outputs": [
    {
     "output_type": "execute_result",
     "data": {
      "text/plain": [
       "['230', '2020-10-14 16-09-58 (2) (Cube_test.stl).0.stl']"
      ]
     },
     "metadata": {},
     "execution_count": 44
    }
   ],
   "source": [
    "splited_text = data[0].text.split('#')\n",
    "splited_text"
   ]
  },
  {
   "cell_type": "code",
   "execution_count": 49,
   "metadata": {},
   "outputs": [
    {
     "output_type": "execute_result",
     "data": {
      "text/plain": [
       "('230', '2020-10-14 16-09-58 (2) (Cube_test.stl).0.stl')"
      ]
     },
     "metadata": {},
     "execution_count": 49
    }
   ],
   "source": [
    "file_id = splited_text[0]\n",
    "file_name = splited_text[1] #.split(' ')[-1]\n",
    "file_id, file_name"
   ]
  },
  {
   "cell_type": "code",
   "execution_count": null,
   "metadata": {},
   "outputs": [],
   "source": []
  },
  {
   "cell_type": "code",
   "execution_count": 28,
   "metadata": {},
   "outputs": [],
   "source": [
    "import os"
   ]
  },
  {
   "cell_type": "code",
   "execution_count": 38,
   "metadata": {},
   "outputs": [],
   "source": [
    "desktop_path = os.path.expanduser(\"~/Desktop\") # Find desktop path\n",
    "directory_path = desktop_path+\"/3DTeleprint\"\n",
    "\n",
    "try:\n",
    "    if not os.path.exists(directory_path): # Check is path alive?\n",
    "        os.makedirs(directory_path) # Create folder\n",
    "except OSError:\n",
    "    print ('Error: Creating directory. ' +  directory)\n"
   ]
  },
  {
   "cell_type": "code",
   "execution_count": null,
   "metadata": {},
   "outputs": [],
   "source": []
  },
  {
   "cell_type": "code",
   "execution_count": 40,
   "metadata": {},
   "outputs": [
    {
     "output_type": "execute_result",
     "data": {
      "text/plain": [
       "'http://tele3dprinting.com/2019/process.php?api=stl.read&file_id=230'"
      ]
     },
     "metadata": {},
     "execution_count": 40
    }
   ],
   "source": [
    "download_url = 'http://tele3dprinting.com/2019/process.php?api=stl.read&file_id=' + file_id\n",
    "download_url"
   ]
  },
  {
   "cell_type": "code",
   "execution_count": 47,
   "metadata": {},
   "outputs": [],
   "source": [
    "r = requests.get(download_url, allow_redirects=True)\n",
    "with open(directory_path+'/'+file_name, 'wb') as file:\n",
    "    file.write(r.content)"
   ]
  },
  {
   "cell_type": "code",
   "execution_count": 43,
   "metadata": {},
   "outputs": [
    {
     "output_type": "error",
     "ename": "AttributeError",
     "evalue": "'Response' object has no attribute 'name'",
     "traceback": [
      "\u001b[1;31m---------------------------------------------------------------------------\u001b[0m",
      "\u001b[1;31mAttributeError\u001b[0m                            Traceback (most recent call last)",
      "\u001b[1;32m<ipython-input-43-01d0c1e8c8d3>\u001b[0m in \u001b[0;36m<module>\u001b[1;34m\u001b[0m\n\u001b[1;32m----> 1\u001b[1;33m \u001b[0mr\u001b[0m\u001b[1;33m.\u001b[0m\u001b[0mname\u001b[0m\u001b[1;33m\u001b[0m\u001b[1;33m\u001b[0m\u001b[0m\n\u001b[0m",
      "\u001b[1;31mAttributeError\u001b[0m: 'Response' object has no attribute 'name'"
     ]
    }
   ],
   "source": [
    "r.name"
   ]
  },
  {
   "cell_type": "code",
   "execution_count": null,
   "metadata": {},
   "outputs": [],
   "source": []
  }
 ]
}